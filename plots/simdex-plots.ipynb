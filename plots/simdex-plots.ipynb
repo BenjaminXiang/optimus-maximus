{
 "cells": [
  {
   "cell_type": "code",
   "execution_count": null,
   "metadata": {},
   "outputs": [],
   "source": [
    "%matplotlib inline\n",
    "%load_ext autoreload\n",
    "%autoreload 2\n",
    "import pandas as pd\n",
    "import numpy as np\n",
    "import re\n",
    "from models import *\n",
    "from plot_utils import *\n",
    "from math import ceil\n",
    "import matplotlib.pyplot as plt\n",
    "import warnings\n",
    "warnings.filterwarnings('ignore')\n"
   ]
  },
  {
   "cell_type": "code",
   "execution_count": null,
   "metadata": {
    "collapsed": true
   },
   "outputs": [],
   "source": [
    "plt.rcParams['figure.figsize'] = (10, 6.5)\n",
    "plt.rcParams['font.size'] = 29\n",
    "plt.rcParams['font.weight'] = 500\n",
    "plt.rcParams['axes.titlesize'] = 30\n",
    "plt.rcParams['axes.labelsize'] = 29\n",
    "plt.rcParams['xtick.labelsize'] = 25\n",
    "plt.rcParams['ytick.labelsize'] = 25\n",
    "plt.rcParams['legend.fontsize'] = 29\n",
    "plt.rcParams['lines.markersize'] = 11\n",
    "plt.rcParams['lines.linewidth'] = 4\n",
    "\n",
    "sns.set_style('ticks')\n",
    "sns.set_palette('Paired', 10)"
   ]
  },
  {
   "cell_type": "code",
   "execution_count": null,
   "metadata": {
    "collapsed": true
   },
   "outputs": [],
   "source": [
    "rmse_df = pd.read_csv('rmse.csv')\n",
    "sampling_df = pd.read_csv('../decision-rule/simdex-decision-rule.csv')\n",
    "\n",
    "simdex_netflix_df = pd.read_csv('timing-results/netflix-simdex-timing.csv')\n",
    "blocked_mm_netflix_df = pd.read_csv('timing-results/netflix-blocked_mm-timing.csv')\n",
    "\n",
    "simdex_kdd_df = pd.read_csv('timing-results/kdd-simdex-timing.csv')\n",
    "blocked_mm_kdd_df = pd.read_csv('timing-results/kdd-blocked_mm-timing.csv')\n",
    "\n",
    "simdex_r2_df = pd.read_csv('timing-results/r2-simdex-timing.csv')\n",
    "blocked_mm_r2_df = pd.read_csv('timing-results/r2-blocked_mm-timing.csv')\n",
    "\n",
    "simdex_lastfm_df = pd.read_csv('timing-results/lastfm-simdex-timing.csv')\n",
    "blocked_mm_lastfm_df = pd.read_csv('timing-results/lastfm-blocked_mm-timing.csv')\n",
    "\n",
    "simdex_glove_df = pd.read_csv('timing-results/glove-simdex-timing.csv')\n",
    "blocked_mm_glove_df = pd.read_csv('timing-results/glove-blocked_mm-timing.csv')\n",
    "\n",
    "simdex_df = pd.concat([simdex_netflix_df, simdex_kdd_df, simdex_r2_df, simdex_lastfm_df, simdex_glove_df])\n",
    "lemp_df = pd.read_csv('timing-results/lemp-gold-standard-timing.csv')\n",
    "blocked_mm_df = pd.concat([blocked_mm_netflix_df, blocked_mm_kdd_df, blocked_mm_r2_df,blocked_mm_lastfm_df,\n",
    "                           blocked_mm_glove_df])\n",
    "both_df = pd.concat([simdex_df, blocked_mm_df])\n",
    "\n",
    "fexipro_df_all = pd.read_csv('timing-results/fexipro-orig-timing.csv')\n",
    "fexipro_df = fexipro_df_all.query('alg == \"SIR\"')\n",
    "fexipro_si_df = fexipro_df_all.query('alg == \"SI\"')\n",
    "\n",
    "fexipro_estimates = pd.read_csv('runtime-estimates/fexipro.csv')\n",
    "lemp_estimates = pd.read_csv('runtime-estimates/lemp.csv')\n",
    "simdex_estimates = pd.read_csv('runtime-estimates/simdex.csv')\n",
    "blocked_mm_esitmates = pd.read_csv('runtime-estimates/blocked_mm.csv')"
   ]
  },
  {
   "cell_type": "code",
   "execution_count": null,
   "metadata": {},
   "outputs": [],
   "source": [
    "simdex_df"
   ]
  },
  {
   "cell_type": "code",
   "execution_count": null,
   "metadata": {},
   "outputs": [],
   "source": [
    "print(simdex_df.query('model == \"nomad-R2-50-reg-0.000001\" and K == 1')['comp_time'].min())\n",
    "print(lemp_df.query('model == \"nomad-R2-50-reg-0.000001\" and K == 1')['comp_time'].min())\n",
    "print(blocked_mm_df.query('model == \"nomad-R2-50-reg-0.000001\" and K == 1')['comp_time'].min())\n"
   ]
  },
  {
   "cell_type": "code",
   "execution_count": null,
   "metadata": {
    "scrolled": false
   },
   "outputs": [],
   "source": [
    "temp = simdex_df.sort_values(by='comp_time').groupby(\n",
    "        ['model', 'K'], as_index=False).first().drop(['num_threads','num_latent_factors',\n",
    "                                                     'num_bins','sample_percentage',\n",
    "                                                      'num_iters', 'parse_time'], axis=1)\n",
    "max((temp['cluster_time'] / temp['comp_time'])*100)"
   ]
  },
  {
   "cell_type": "code",
   "execution_count": null,
   "metadata": {},
   "outputs": [],
   "source": [
    "print(blocked_mm_df.query('model == \"nomad-Netflix-25-reg-0.05\" and K == 1')['comp_time'].min())\n",
    "print(lemp_df.query('model == \"nomad-Netflix-25-reg-0.05\" and K == 1')['comp_time'].min())\n",
    "print(fexipro_si_df.query('model == \"nomad-Netflix-25-reg-0.05\" and K == 1')['comp_time'].min())"
   ]
  },
  {
   "cell_type": "code",
   "execution_count": null,
   "metadata": {
    "scrolled": false
   },
   "outputs": [],
   "source": [
    "palette = sns.color_palette('Paired', 4)\n",
    "blue_palette = sns.color_palette('Blues', 10)\n",
    "green_palette = sns.color_palette('Greens', 10)\n",
    "f_u_palette = [palette[1], blue_palette[-5], palette[3], green_palette[-5], palette[2]]\n",
    "# appetizer_palette = [palette[1], palette[3]]\n",
    "appetizer_palette = f_u_palette[0:1] + f_u_palette[2:]\n",
    "# rmse_reg_palette = [palette[1], palette[0], palette[3]]\n",
    "rmse_reg_palette = f_u_palette #[blue_palette[-5], palette[0], palette[3], green_palette[-5], palette[2]]\n",
    "# rmse_reg_palette = [f_u_palette[3], f_u_palette[1], f_u_palette[4], f_u_palette[2], f_u_palette[5]]\n",
    "\n",
    "sns.palplot(sns.color_palette('Paired', 8))\n",
    "sns.palplot(sns.color_palette('Blues', 10))\n",
    "sns.palplot(sns.color_palette('Greens', 10))\n",
    "sns.palplot(sns.diverging_palette(240, 128, n=6))\n",
    "print('FU Plots')\n",
    "sns.palplot(f_u_palette)\n",
    "print('Appetizer plots')\n",
    "sns.palplot(appetizer_palette)\n",
    "print('RMSE plots')\n",
    "sns.palplot(rmse_reg_palette)"
   ]
  },
  {
   "cell_type": "code",
   "execution_count": null,
   "metadata": {},
   "outputs": [],
   "source": [
    "lemp_parallel_df = pd.read_csv('timing-results/parallel-experiments/netflix-lemp.csv').query('num_threads < 32')\n",
    "blocked_mm_parallel_df = pd.read_csv('timing-results/parallel-experiments/netflix-blocked_mm.csv').query('num_threads < 32')\n",
    "simdex_parallel_df = pd.read_csv('timing-results/parallel-experiments/netflix-simdex.csv').query('num_threads < 32')\n",
    "\n",
    "shrink_factor = 4\n",
    "plt.rcParams['figure.figsize'] = (10, 4.1)\n",
    "plt.rcParams['font.size'] = 25 - shrink_factor\n",
    "plt.rcParams['font.weight'] = 500\n",
    "plt.rcParams['axes.titlesize'] = 26 - shrink_factor\n",
    "plt.rcParams['axes.labelsize'] = 25 - shrink_factor\n",
    "plt.rcParams['xtick.labelsize'] = 22 - shrink_factor\n",
    "plt.rcParams['ytick.labelsize'] = 22 - shrink_factor\n",
    "plt.rcParams['legend.fontsize'] = 24 - shrink_factor\n",
    "plt.rcParams['lines.markersize'] = 11\n",
    "plt.rcParams['lines.linewidth'] = 4\n",
    "\n",
    "with sns.color_palette(f_u_palette):\n",
    "    fig, ax = plt.subplots()\n",
    "    ax.plot(blocked_mm_parallel_df['num_threads'], blocked_mm_parallel_df['comp_time'],\n",
    "            marker='o', label='Blocked MM')\n",
    "    ax.plot(simdex_parallel_df['num_threads'], simdex_parallel_df['comp_time'],\n",
    "            marker='^', label='Maximus')\n",
    "    ax.plot(lemp_parallel_df['num_threads'], lemp_parallel_df['comp_time'],\n",
    "            marker='s', label='LEMP')\n",
    "    ax.set_xscale('log')\n",
    "    ax.set_yscale('log')\n",
    "    ax.set_xlabel('Num Threads')\n",
    "    ax.set_ylabel('Runtime (s), log scale')\n",
    "    ax.set_title(r'Netflix-DSGD, $f=100$')\n",
    "    ax.set_xticks(simdex_parallel_df['num_threads'])\n",
    "    ax.set_xticklabels(simdex_parallel_df['num_threads'])\n",
    "    ax.legend(bbox_to_anchor=(0,0,1,1.1))\n",
    "    ax.grid()\n",
    "    sns.despine()\n",
    "    save_figure('parallel-experiment')"
   ]
  },
  {
   "cell_type": "code",
   "execution_count": null,
   "metadata": {
    "scrolled": false
   },
   "outputs": [],
   "source": [
    "for model in GLOVE_MODELS:\n",
    "    f_u_plot_single(simdex_df, lemp_df, blocked_mm_df, fexipro_df,\n",
    "                    fexipro_si_df, sampling_df, model=model, num_clusters=8)"
   ]
  },
  {
   "cell_type": "code",
   "execution_count": null,
   "metadata": {
    "scrolled": false
   },
   "outputs": [],
   "source": [
    "for model in BPR_GOLD_STANDARD_MODELS:\n",
    "    f_u_plot_single(simdex_df, lemp_df, blocked_mm_df, fexipro_df,\n",
    "                    fexipro_si_df, sampling_df, model=model, num_clusters=8)"
   ]
  },
  {
   "cell_type": "code",
   "execution_count": null,
   "metadata": {
    "scrolled": false
   },
   "outputs": [],
   "source": [
    "with sns.color_palette(f_u_palette):\n",
    "    f_u_plots(simdex_df, lemp_df, blocked_mm_df, fexipro_df, fexipro_si_df, sampling_df,\n",
    "              GOLD_STANDARD_MODELS, figsize=(28, 17), # 15\n",
    "              bbox_to_anchor=(0, 0, 1, 0.99), nrows=5, y_title=1.09) # 1.06"
   ]
  },
  {
   "cell_type": "code",
   "execution_count": null,
   "metadata": {},
   "outputs": [],
   "source": [
    "plt.rcParams['font.size'] = 18\n",
    "plt.rcParams['font.weight'] = 500\n",
    "plt.rcParams['axes.titlesize'] = 20\n",
    "plt.rcParams['axes.labelsize'] = 17\n",
    "plt.rcParams['xtick.labelsize'] = 15\n",
    "plt.rcParams['ytick.labelsize'] = 15\n",
    "plt.rcParams['legend.fontsize'] = 18\n",
    "\n",
    "with sns.color_palette(appetizer_palette):\n",
    "    benchmark_against_blocked_mm_multi(lemp_df, blocked_mm_df, fexipro_df,\n",
    "            models=['nomad-Netflix-50-reg-0.05', 'nomad-R2-50-reg-0.000001'],\n",
    "            num_clusters=8, bbox_to_anchor=(0, 0, 1, 1.09), y_title=-.5, figsize=(10, 3))\n",
    "    \n",
    "plt.rcParams['figure.figsize'] = (10, 6.5)\n",
    "plt.rcParams['font.size'] = 29\n",
    "plt.rcParams['font.weight'] = 500\n",
    "plt.rcParams['axes.titlesize'] = 30\n",
    "plt.rcParams['axes.labelsize'] = 29\n",
    "plt.rcParams['xtick.labelsize'] = 25\n",
    "plt.rcParams['ytick.labelsize'] = 25\n",
    "plt.rcParams['legend.fontsize'] = 29\n",
    "plt.rcParams['lines.markersize'] = 11\n",
    "plt.rcParams['lines.linewidth'] = 4\n"
   ]
  },
  {
   "cell_type": "code",
   "execution_count": null,
   "metadata": {
    "scrolled": false
   },
   "outputs": [],
   "source": [
    "with sns.color_palette(appetizer_palette):\n",
    "    blocked_mm_lemp_fexipro_plot(blocked_mm_df, lemp_df, fexipro_df, fexipro_si_df,\n",
    "                             'nomad-R2-50-reg-0.001', y_title=1.01, figsize=(7, 5.5), title=r'Yahoo Music R2, $f=50$')\n",
    "    blocked_mm_lemp_fexipro_plot(blocked_mm_df, lemp_df, fexipro_df, fexipro_si_df,\n",
    "                             'nomad-Netflix-50-reg-0.05', y_title=1.01, figsize=(7, 5.5),\n",
    "                             title=r'Netflix Prize, $f=50$')"
   ]
  },
  {
   "cell_type": "code",
   "execution_count": null,
   "metadata": {
    "scrolled": false
   },
   "outputs": [],
   "source": [
    "# custom settings for the line plots\n",
    "plt.rcParams['font.size'] = 18\n",
    "plt.rcParams['font.weight'] = 500\n",
    "plt.rcParams['axes.titlesize'] = 19\n",
    "plt.rcParams['figure.titlesize'] = 18\n",
    "plt.rcParams['axes.labelsize'] = 19\n",
    "plt.rcParams['xtick.labelsize'] = 16\n",
    "plt.rcParams['ytick.labelsize'] = 16\n",
    "plt.rcParams['legend.fontsize'] = 18\n",
    "plt.rcParams['lines.markersize'] = 10\n",
    "plt.rcParams['lines.linewidth'] = 4\n",
    "\n",
    "runtime_estimates_plot([\n",
    "                        'lemp-paper-KDD-50',\n",
    "#                         'lemp-paper-Netflix-noav-50',\n",
    "#                         'nomad-KDD-50-reg-1',\n",
    "#                         'nomad-Netflix-50-reg-0.05',\n",
    "#                         'nomad-R2-50-reg-0.000001',\n",
    "                       ], lemp_estimates, lemp_df, fexipro_estimates, fexipro_df_all, simdex_estimates, simdex_df,\n",
    "                        blocked_mm_esitmates, blocked_mm_df, markerstyle='X',\n",
    "                      figsize=(8,3))\n",
    "\n",
    "# return to normal\n",
    "plt.rcParams['font.size'] = 29\n",
    "plt.rcParams['font.weight'] = 500\n",
    "plt.rcParams['axes.titlesize'] = 32\n",
    "plt.rcParams['figure.titlesize'] = 32\n",
    "plt.rcParams['axes.labelsize'] = 29\n",
    "plt.rcParams['xtick.labelsize'] = 25\n",
    "plt.rcParams['ytick.labelsize'] = 25\n",
    "plt.rcParams['legend.fontsize'] = 29\n",
    "plt.rcParams['lines.markersize'] = 10\n",
    "plt.rcParams['lines.linewidth'] = 4"
   ]
  },
  {
   "cell_type": "code",
   "execution_count": null,
   "metadata": {
    "scrolled": false
   },
   "outputs": [],
   "source": [
    "# custom settings for the line plots\n",
    "plt.rcParams['font.size'] = 18\n",
    "plt.rcParams['font.weight'] = 500\n",
    "plt.rcParams['axes.titlesize'] = 23\n",
    "plt.rcParams['figure.titlesize'] = 23\n",
    "plt.rcParams['axes.labelsize'] = 21\n",
    "plt.rcParams['xtick.labelsize'] = 16\n",
    "plt.rcParams['ytick.labelsize'] = 16\n",
    "plt.rcParams['legend.fontsize'] = 13\n",
    "plt.rcParams['lines.markersize'] = 12\n",
    "plt.rcParams['lines.linewidth'] = 3.5\n",
    "\n",
    "appetizer_models = [\n",
    "    ('nomad-Netflix-25', NETFLIX_REGS, (10, 125), r'Netflix-NOMAD, $f=25$'),\n",
    "    ('nomad-R2-25', R2_REGS, (-25, 80), r'R2-NOMAD, $f=25$')    \n",
    "]\n",
    "\n",
    "all_models = [\n",
    "    ('nomad-Netflix-50', NETFLIX_REGS, (-5, 135), r'Netflix-NOMAD, $f=50$'),\n",
    "    ('nomad-Netflix-100', NETFLIX_REGS, (-5, 135), r'Netflix-NOMAD, $f=100$'),\n",
    "    ('nomad-R2-50', R2_REGS[:-1], (15, 150), r'R2-NOMAD, $f=50$'),\n",
    "    ('nomad-R2-100', R2_REGS[:-1],(60, 120), r'R2-NOMAD, $f=100$'),\n",
    "    ('nomad-KDD-10', KDD_REGS, (-24, 135), r'KDD-NOMAD, $f=10$'),\n",
    "]\n",
    "for add_simdex in [True, False]:\n",
    "    models = all_models if add_simdex else appetizer_models\n",
    "    _palette = rmse_reg_palette if add_simdex else appetizer_palette\n",
    "    for model_prefix, regs, xy_text, title_text in models:\n",
    "        _simdex_df = simdex_df if add_simdex else None\n",
    "        fname = 'appetizer-' + model_prefix if not add_simdex else None\n",
    "        with sns.color_palette(_palette):\n",
    "            rmse_and_reg_plots(blocked_mm_df, lemp_df, rmse_df, model_prefix, regs,\n",
    "                               simdex_df=_simdex_df, fexipro_df=fexipro_df, fexipro_si_df=fexipro_si_df,\n",
    "                               fname=fname, figsize=(5.5, 7),\n",
    "                               bbox_to_anchor=(0,0,1,1.05), title=add_simdex, title_text=title_text, \n",
    "                               y_title=-0.5, annotate=not add_simdex, xy_text=xy_text, linestyle='--', markerstyle='X',\n",
    "                               include_legend=False)\n",
    "            rmse_and_reg_legend(add_simdex, linestyle='--', markerstyle='X')\n",
    "     \n",
    "# return to normal\n",
    "plt.rcParams['font.size'] = 29\n",
    "plt.rcParams['font.weight'] = 500\n",
    "plt.rcParams['axes.titlesize'] = 32\n",
    "plt.rcParams['figure.titlesize'] = 32\n",
    "plt.rcParams['axes.labelsize'] = 29\n",
    "plt.rcParams['xtick.labelsize'] = 25\n",
    "plt.rcParams['ytick.labelsize'] = 25\n",
    "plt.rcParams['legend.fontsize'] = 29\n",
    "plt.rcParams['lines.markersize'] = 10\n",
    "plt.rcParams['lines.linewidth'] = 4        \n",
    "sns.set_palette('Paired', 10)\n"
   ]
  },
  {
   "cell_type": "code",
   "execution_count": null,
   "metadata": {
    "scrolled": false
   },
   "outputs": [],
   "source": [
    "plt.rcParams['axes.titlesize'] = 23\n",
    "plt.rcParams['legend.fontsize'] = 21\n",
    "plt.rcParams['xtick.labelsize'] = 20\n",
    "plt.rcParams['ytick.labelsize'] = 20\n",
    "plt.rcParams['axes.labelsize'] = 21\n",
    "num_clusters_vs_runtime(simdex_df, ['lemp-paper-Netflix-noav-50',\n",
    "                                    'nomad-Netflix-50-reg-0.05',\n",
    "                                    'nomad-R2-10-reg-0.001',\n",
    "                                    'nomad-R2-100-reg-0',\n",
    "                                   ], figsize=(25, 5), y_title=-0.3,\n",
    "                            bbox_to_anchor=(0,0,1,1.05), min_value=0, max_value=512)\n",
    "plt.rcParams['axes.titlesize'] = 30\n",
    "plt.rcParams['legend.fontsize'] = 29\n",
    "plt.rcParams['xtick.labelsize'] = 25\n",
    "plt.rcParams['ytick.labelsize'] = 25\n",
    "plt.rcParams['axes.labelsize'] = 29"
   ]
  },
  {
   "cell_type": "code",
   "execution_count": null,
   "metadata": {
    "scrolled": false
   },
   "outputs": [],
   "source": [
    "plt.rcParams['axes.titlesize'] = 23\n",
    "plt.rcParams['legend.fontsize'] = 21\n",
    "plt.rcParams['xtick.labelsize'] = 20\n",
    "plt.rcParams['ytick.labelsize'] = 20\n",
    "plt.rcParams['axes.labelsize'] = 21\n",
    "\n",
    "# TODO: lemp-paper-Netflix-noav-50 and nomad-R2-50-reg-0.000001 don't have all the clusters\n",
    "batch_size_vs_runtime(simdex_df, [\n",
    "                                  'nomad-Netflix-50-reg-0.05',\n",
    "                                  'lemp-paper-Netflix-noav-50',\n",
    "                                  'nomad-R2-50-reg-0.000001',\n",
    "                                  'nomad-R2-100-reg-0',\n",
    "                                  ], figsize=(25,5), bbox_to_anchor=(0,0,1,1.05), y_title=-0.3)\n",
    "plt.rcParams['axes.titlesize'] = 30\n",
    "plt.rcParams['legend.fontsize'] = 29\n",
    "plt.rcParams['xtick.labelsize'] = 25\n",
    "plt.rcParams['ytick.labelsize'] = 25\n",
    "plt.rcParams['axes.labelsize'] = 29"
   ]
  },
  {
   "cell_type": "code",
   "execution_count": null,
   "metadata": {},
   "outputs": [],
   "source": [
    "plt.rcParams['axes.titlesize'] = 32\n",
    "plt.rcParams['lines.linewidth'] = 6\n",
    "with sns.color_palette(f_u_palette):\n",
    "    point_query_time(['lemp-paper-Netflix-noav-50', 'nomad-Netflix-50-reg-0.05',\n",
    "                      'nomad-R2-50-reg-0.001', 'nomad-KDD-50-reg-1'],\n",
    "                     csv_dir='point-query-stats/', figsize=(32, 6.5),\n",
    "                     sample_fraction=1.0, y_title=-0.38)\n",
    "plt.rcParams['axes.titlesize'] = 30\n",
    "plt.rcParams['lines.linewidth'] = 4"
   ]
  },
  {
   "cell_type": "code",
   "execution_count": null,
   "metadata": {},
   "outputs": [],
   "source": [
    "plt.rcParams['font.size'] = 25\n",
    "plt.rcParams['axes.titlesize'] = 26\n",
    "plt.rcParams['axes.labelsize'] = 16\n",
    "plt.rcParams['xtick.labelsize'] = 17\n",
    "plt.rcParams['ytick.labelsize'] = 17\n",
    "plt.rcParams['legend.fontsize'] = 17\n",
    "plt.rcParams['lines.markersize'] = 11\n",
    "plt.rcParams['lines.linewidth'] = 2.50\n",
    "\n",
    "factor_analysis(figsize=(8,3))"
   ]
  },
  {
   "cell_type": "code",
   "execution_count": null,
   "metadata": {
    "scrolled": false
   },
   "outputs": [],
   "source": [
    "lemp_model_df = lemp_df.query('model.str.contains(\"lemp-paper-Netflix-noav\") and K == 1', engine='python')\n",
    "lemp_data = lemp_model_df[['model', 'num_latent_factors', 'comp_time']]\n",
    "lemp_data['index_time'] = lemp_model_df['preproc_time'] + lemp_model_df['index_time']\n",
    "lemp_data['algo'] = 'LEMP'\n",
    "\n",
    "shrink_factor = 7\n",
    "plt.rcParams['figure.figsize'] = (10, 3)\n",
    "plt.rcParams['font.size'] = 28 - shrink_factor\n",
    "plt.rcParams['font.weight'] = 500\n",
    "plt.rcParams['axes.titlesize'] = 30 - shrink_factor\n",
    "plt.rcParams['axes.labelsize'] = 26 - shrink_factor\n",
    "plt.rcParams['xtick.labelsize'] = 25 - shrink_factor\n",
    "plt.rcParams['ytick.labelsize'] = 25 - shrink_factor\n",
    "plt.rcParams['legend.fontsize'] = 26 - shrink_factor\n",
    "plt.rcParams['lines.markersize'] = 11\n",
    "plt.rcParams['lines.linewidth'] = 4\n",
    "\n",
    "\n",
    "fexipro_model_df = fexipro_df.query('model.str.contains(\"lemp-paper-Netflix-noav\") and K == 1', engine='python')\n",
    "fexipro_data = fexipro_model_df[['model', 'num_latent_factors', 'comp_time']]\n",
    "fexipro_data['index_time'] = fexipro_model_df['preproc_time']\n",
    "fexipro_data['algo'] = 'FEXIPRO'\n",
    "\n",
    "data = pd.concat([lemp_data, fexipro_data])\n",
    "data.replace({\"model\": LABEL_DICT}, inplace=True)\n",
    "data.sort_values(by='num_latent_factors', inplace=True)\n",
    "\n",
    "print((data['comp_time'] - data['index_time']) / data['index_time'])\n",
    "\n",
    "sns.barplot(x='model', y='comp_time', hue='algo', data=data, edgecolor='black')\n",
    "ax = sns.barplot(x='model', y='index_time', hue='algo', data=data, hatch='\\\\', edgecolor='black')\n",
    "ax.legend_.remove()\n",
    "\n",
    "ax.set_yscale('log')\n",
    "ax.set_xlabel('')\n",
    "ax.set_ylabel('Time (s), log scale')\n",
    "xticklabels = [label.get_text().replace('-DSGD', '',) for label in ax.get_xticklabels()]\n",
    "ax.set_xticklabels(xticklabels)\n",
    "\n",
    "lemp_legend = plt.Rectangle((0,0),1,1, edgecolor='none')\n",
    "fexipro_legend = plt.Rectangle((0,0),1,1, fc=palette[1], edgecolor='none')\n",
    "index_time_legend = plt.Rectangle((0,0),1,1, fill=False, hatch='\\\\')\n",
    "\n",
    "legend = ax.legend([index_time_legend, lemp_legend, fexipro_legend],\n",
    "                    ['Index Construction', 'LEMP', 'FEXIPRO'],\n",
    "                    loc='bottom right',                       \n",
    "                    ncol=1,\n",
    "                    handletextpad=0.5,\n",
    "                    columnspacing=1.25,\n",
    "                    bbox_to_anchor=(0.48, 0.58))\n",
    "\n",
    "def change_width(ax, new_value) :\n",
    "    for i, patch in enumerate(ax.patches):\n",
    "        current_width = patch.get_width()\n",
    "        diff = current_width - new_value\n",
    "\n",
    "        # we change the bar width\n",
    "        patch.set_width(new_value)\n",
    "\n",
    "        # we recenter the bar\n",
    "        if i == 0 or i == 6 or i == 1 or i == 7 or i == 2 or i == 8:\n",
    "            patch.set_x(patch.get_x() + diff)\n",
    "change_width(ax, .3)\n",
    "\n",
    "sns.despine()\n",
    "\n",
    "save_figure('index-construction', (legend,))\n",
    "\n",
    "plt.rcParams['xtick.labelsize'] = 25\n",
    "plt.rcParams['ytick.labelsize'] = 25"
   ]
  },
  {
   "cell_type": "code",
   "execution_count": null,
   "metadata": {
    "scrolled": false
   },
   "outputs": [],
   "source": [
    "df = pd.read_csv('user-stats.csv')\n",
    "fig, (ax0, ax1) = plt.subplots(2, 1)\n",
    "sns.boxplot(x=df[\"theta_b\"], y=df[\"num_items_visited\"], ax=ax0)\n",
    "ax1.scatter(x=df['theta_uc'], y=df['num_items_visited'], s=5)\n",
    "sns.despine()\n",
    "df.groupby('cluster_id').agg('median').sort_values(by='theta_b')"
   ]
  },
  {
   "cell_type": "code",
   "execution_count": null,
   "metadata": {
    "collapsed": true
   },
   "outputs": [],
   "source": []
  }
 ],
 "metadata": {
  "kernelspec": {
   "display_name": "Python 3",
   "language": "python",
   "name": "python3"
  },
  "language_info": {
   "codemirror_mode": {
    "name": "ipython",
    "version": 3
   },
   "file_extension": ".py",
   "mimetype": "text/x-python",
   "name": "python",
   "nbconvert_exporter": "python",
   "pygments_lexer": "ipython3",
   "version": "3.6.2"
  }
 },
 "nbformat": 4,
 "nbformat_minor": 1
}
